{
 "cells": [
  {
   "cell_type": "code",
   "execution_count": 1,
   "id": "52c08c0f-ce1c-44d9-b655-7583ef766ff4",
   "metadata": {},
   "outputs": [],
   "source": [
    "%load_ext autoreload \n",
    "\n",
    "import os\n",
    "import warnings\n",
    "warnings.simplefilter(\"ignore\", UserWarning)"
   ]
  },
  {
   "cell_type": "code",
   "execution_count": 2,
   "id": "af39e368-b627-4a8b-9d2c-2fbb4af04dfb",
   "metadata": {},
   "outputs": [],
   "source": [
    "%autoreload 2\n",
    "\n",
    "import condorml as cm"
   ]
  },
  {
   "cell_type": "code",
   "execution_count": 3,
   "id": "50659404-f832-47dd-bc7e-28df29557eee",
   "metadata": {},
   "outputs": [],
   "source": [
    "ds = cm.data.load_dataset(\n",
    "    \"movielens\", \n",
    "    data_dir=\"/Users/praveenr/data/condorml\", \n",
    "    working_dir=\"/Users/praveenr/experiments\",\n",
    "    variant=\"1m\",\n",
    ")"
   ]
  },
  {
   "cell_type": "code",
   "execution_count": 6,
   "id": "e3ba37f7-c08c-4417-afee-c4a2d1d49910",
   "metadata": {},
   "outputs": [
    {
     "data": {
      "text/html": [
       "<div>\n",
       "<style scoped>\n",
       "    .dataframe tbody tr th:only-of-type {\n",
       "        vertical-align: middle;\n",
       "    }\n",
       "\n",
       "    .dataframe tbody tr th {\n",
       "        vertical-align: top;\n",
       "    }\n",
       "\n",
       "    .dataframe thead th {\n",
       "        text-align: right;\n",
       "    }\n",
       "</style>\n",
       "<table border=\"1\" class=\"dataframe\">\n",
       "  <thead>\n",
       "    <tr style=\"text-align: right;\">\n",
       "      <th></th>\n",
       "      <th>userId</th>\n",
       "      <th>movieId</th>\n",
       "      <th>title</th>\n",
       "      <th>genres</th>\n",
       "      <th>gender</th>\n",
       "      <th>age</th>\n",
       "      <th>occupation</th>\n",
       "      <th>zipcode</th>\n",
       "      <th>rating</th>\n",
       "    </tr>\n",
       "  </thead>\n",
       "  <tbody>\n",
       "    <tr>\n",
       "      <th>0</th>\n",
       "      <td>3887</td>\n",
       "      <td>2966</td>\n",
       "      <td>Straight Story, The (1999)</td>\n",
       "      <td>[Drama]</td>\n",
       "      <td>M</td>\n",
       "      <td>18</td>\n",
       "      <td>4</td>\n",
       "      <td>80513</td>\n",
       "      <td>1</td>\n",
       "    </tr>\n",
       "    <tr>\n",
       "      <th>1</th>\n",
       "      <td>216</td>\n",
       "      <td>1022</td>\n",
       "      <td>Cinderella (1950)</td>\n",
       "      <td>[Animation, Children's, Musical]</td>\n",
       "      <td>M</td>\n",
       "      <td>45</td>\n",
       "      <td>13</td>\n",
       "      <td>52761</td>\n",
       "      <td>0</td>\n",
       "    </tr>\n",
       "    <tr>\n",
       "      <th>2</th>\n",
       "      <td>1835</td>\n",
       "      <td>1249</td>\n",
       "      <td>Nikita (La Femme Nikita) (1990)</td>\n",
       "      <td>[Thriller]</td>\n",
       "      <td>M</td>\n",
       "      <td>25</td>\n",
       "      <td>19</td>\n",
       "      <td>11501</td>\n",
       "      <td>1</td>\n",
       "    </tr>\n",
       "    <tr>\n",
       "      <th>3</th>\n",
       "      <td>4279</td>\n",
       "      <td>891</td>\n",
       "      <td>Halloween: The Curse of Michael Myers (1995)</td>\n",
       "      <td>[Horror, Thriller]</td>\n",
       "      <td>M</td>\n",
       "      <td>25</td>\n",
       "      <td>16</td>\n",
       "      <td>43215</td>\n",
       "      <td>1</td>\n",
       "    </tr>\n",
       "    <tr>\n",
       "      <th>4</th>\n",
       "      <td>5891</td>\n",
       "      <td>2694</td>\n",
       "      <td>Big Daddy (1999)</td>\n",
       "      <td>[Comedy]</td>\n",
       "      <td>M</td>\n",
       "      <td>18</td>\n",
       "      <td>4</td>\n",
       "      <td>55404</td>\n",
       "      <td>1</td>\n",
       "    </tr>\n",
       "  </tbody>\n",
       "</table>\n",
       "</div>"
      ],
      "text/plain": [
       "   userId  movieId                                         title  \\\n",
       "0    3887     2966                    Straight Story, The (1999)   \n",
       "1     216     1022                             Cinderella (1950)   \n",
       "2    1835     1249               Nikita (La Femme Nikita) (1990)   \n",
       "3    4279      891  Halloween: The Curse of Michael Myers (1995)   \n",
       "4    5891     2694                              Big Daddy (1999)   \n",
       "\n",
       "                             genres gender  age  occupation zipcode  rating  \n",
       "0                           [Drama]      M   18           4   80513       1  \n",
       "1  [Animation, Children's, Musical]      M   45          13   52761       0  \n",
       "2                        [Thriller]      M   25          19   11501       1  \n",
       "3                [Horror, Thriller]      M   25          16   43215       1  \n",
       "4                          [Comedy]      M   18           4   55404       1  "
      ]
     },
     "execution_count": 6,
     "metadata": {},
     "output_type": "execute_result"
    }
   ],
   "source": [
    "ds.train.base_nvt_dataset.head()"
   ]
  },
  {
   "cell_type": "code",
   "execution_count": 7,
   "id": "35df5add-cec6-41c8-8bc1-78864aad8d4c",
   "metadata": {},
   "outputs": [
    {
     "name": "stdout",
     "output_type": "stream",
     "text": [
      "userId <class 'pandas.core.series.Series'>\n",
      "movieId <class 'pandas.core.series.Series'>\n",
      "genres <class 'pandas.core.series.Series'>\n"
     ]
    }
   ],
   "source": [
    "ds.train.analyze_transform(None)"
   ]
  },
  {
   "cell_type": "code",
   "execution_count": 6,
   "id": "d1aac6a8-5041-4578-970a-2225a0db86eb",
   "metadata": {},
   "outputs": [
    {
     "data": {
      "text/plain": [
       "{}"
      ]
     },
     "execution_count": 6,
     "metadata": {},
     "output_type": "execute_result"
    }
   ],
   "source": [
    "ds.train.preprocessor.analysis_data"
   ]
  },
  {
   "cell_type": "code",
   "execution_count": 8,
   "id": "a40c8ab2-7a76-419d-a865-b56a49dc3661",
   "metadata": {},
   "outputs": [
    {
     "data": {
      "text/plain": [
       "PosixPath('/Users/praveenr/experiments/transformed_dataset')"
      ]
     },
     "execution_count": 8,
     "metadata": {},
     "output_type": "execute_result"
    }
   ],
   "source": [
    "ds.train.transformed_data_dir"
   ]
  },
  {
   "cell_type": "code",
   "execution_count": 9,
   "id": "225a9b6f-7e28-4b32-8a17-07ca506df3cb",
   "metadata": {},
   "outputs": [
    {
     "name": "stdout",
     "output_type": "stream",
     "text": [
      "{'genres': (tensor([ 1,  9, 13,  3,  2,  4,  1,  6, 11,  1,  3,  7,  5, 12,  2,  4, 11,  2,\n",
      "        11,  3,  5,  7,  1,  2]), tensor([[ 0],\n",
      "        [ 3],\n",
      "        [ 6],\n",
      "        [ 9],\n",
      "        [10],\n",
      "        [13],\n",
      "        [14],\n",
      "        [17],\n",
      "        [19],\n",
      "        [21]])), 'userId': tensor([[0],\n",
      "        [0],\n",
      "        [0],\n",
      "        [0],\n",
      "        [0],\n",
      "        [0],\n",
      "        [0],\n",
      "        [0],\n",
      "        [0],\n",
      "        [0]]), 'movieId': tensor([[0],\n",
      "        [0],\n",
      "        [0],\n",
      "        [0],\n",
      "        [0],\n",
      "        [0],\n",
      "        [0],\n",
      "        [0],\n",
      "        [0],\n",
      "        [0]])} tensor([0., 0., 1., 1., 0., 1., 1., 0., 1., 1.])\n"
     ]
    }
   ],
   "source": [
    "for x,y in ds.train.to_torch(batch_size=10):\n",
    "    print(x, y)\n",
    "    break"
   ]
  },
  {
   "cell_type": "code",
   "execution_count": null,
   "id": "7a70335c-557e-40d6-a80e-e50a8d7b8318",
   "metadata": {},
   "outputs": [],
   "source": []
  }
 ],
 "metadata": {
  "kernelspec": {
   "display_name": "Python 3 (ipykernel)",
   "language": "python",
   "name": "python3"
  },
  "language_info": {
   "codemirror_mode": {
    "name": "ipython",
    "version": 3
   },
   "file_extension": ".py",
   "mimetype": "text/x-python",
   "name": "python",
   "nbconvert_exporter": "python",
   "pygments_lexer": "ipython3",
   "version": "3.8.10"
  }
 },
 "nbformat": 4,
 "nbformat_minor": 5
}
